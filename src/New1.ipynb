{
 "cells": [
  {
   "cell_type": "markdown",
   "metadata": {
    "collapsed": true
   },
   "source": [
    "Given n non-negative integers a_1, a_2, ..., a_n  where each represents a point at coordinate  (i, a_i) . ‘ n ‘ vertical lines are drawn such that the two endpoints of line i is at  (i, a_i)  and (i, 0).\n",
    "Find two lines, which together with x-axis forms a container, such that the container contains the most water.\n",
    "\n",
    "The program should return an integer which corresponds to the maximum area of water that can be contained ( maximum area instead of maximum volume sounds weird but this is 2D plane we are working with for simplicity ).\n"
   ]
  },
  {
   "cell_type": "code",
   "execution_count": null,
   "metadata": {},
   "outputs": [],
   "source": [
    "class Solution:\n",
    "    def maxArea(self, height):\n",
    "        \"\"\"\n",
    "        :type height: List[int]\n",
    "        :rtype: int\n",
    "        \"\"\"\n",
    "        max_area=0\n",
    "        a1 =0\n",
    "        a2 = len(height)-1\n",
    "        while a1<a2:\n",
    "            \n",
    "            max_area = max(max_area,min(height[a2],height[a1])*(a2-a1))\n",
    "            \n",
    "            if(height[a1] < height[a2]):\n",
    "                a1=a1+1\n",
    "            else:\n",
    "                a2=a2-1        \n",
    "        \n",
    "        return(max_area)"
   ]
  }
 ],
 "metadata": {
  "kernelspec": {
   "display_name": "Python 2",
   "language": "python",
   "name": "python2"
  },
  "language_info": {
   "codemirror_mode": {
    "name": "ipython",
    "version": 2
   },
   "file_extension": ".py",
   "mimetype": "text/x-python",
   "name": "python",
   "nbconvert_exporter": "python",
   "pygments_lexer": "ipython2",
   "version": "2.7.6"
  }
 },
 "nbformat": 4,
 "nbformat_minor": 0
}
